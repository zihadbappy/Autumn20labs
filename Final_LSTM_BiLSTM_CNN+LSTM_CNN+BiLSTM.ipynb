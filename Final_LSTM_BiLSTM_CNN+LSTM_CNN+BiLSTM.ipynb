{
  "cells": [
    {
      "cell_type": "markdown",
      "metadata": {
        "id": "view-in-github",
        "colab_type": "text"
      },
      "source": [
        "<a href=\"https://colab.research.google.com/github/zihadbappy/Autumn20labs/blob/master/Final_LSTM_BiLSTM_CNN%2BLSTM_CNN%2BBiLSTM.ipynb\" target=\"_parent\"><img src=\"https://colab.research.google.com/assets/colab-badge.svg\" alt=\"Open In Colab\"/></a>"
      ]
    },
    {
      "cell_type": "code",
      "execution_count": 1,
      "metadata": {
        "colab": {
          "base_uri": "https://localhost:8080/"
        },
        "id": "yWwzky88kQDW",
        "outputId": "eea91aa2-54be-469f-fdcf-242fbd6e722b"
      },
      "outputs": [
        {
          "output_type": "stream",
          "name": "stdout",
          "text": [
            "Cloning into 'bnfakedata'...\n",
            "remote: Enumerating objects: 12, done.\u001b[K\n",
            "remote: Counting objects: 100% (12/12), done.\u001b[K\n",
            "remote: Compressing objects: 100% (10/10), done.\u001b[K\n",
            "remote: Total 12 (delta 4), reused 0 (delta 0), pack-reused 0\u001b[K\n",
            "Unpacking objects: 100% (12/12), done.\n"
          ]
        }
      ],
      "source": [
        "!git clone https://github.com/zihadbappy/bnfakedata.git"
      ]
    },
    {
      "cell_type": "code",
      "execution_count": 2,
      "metadata": {
        "id": "zUKl__8RkaX0"
      },
      "outputs": [],
      "source": [
        "import pandas as pd\n",
        "Dataset= pd.read_csv('/content/bnfakedata/bnfakefinal_no_duplicate.csv')"
      ]
    },
    {
      "cell_type": "code",
      "execution_count": 3,
      "metadata": {
        "id": "4or3X6M_kbZK"
      },
      "outputs": [],
      "source": [
        "df = pd.DataFrame(Dataset)"
      ]
    },
    {
      "cell_type": "code",
      "execution_count": 4,
      "metadata": {
        "id": "g8HDYbD7kdEK"
      },
      "outputs": [],
      "source": [
        "df = pd.DataFrame(Dataset)\n"
      ]
    },
    {
      "cell_type": "code",
      "execution_count": 5,
      "metadata": {
        "id": "Aqi9SlmSkkeC"
      },
      "outputs": [],
      "source": [
        "df=df.dropna()"
      ]
    },
    {
      "cell_type": "code",
      "execution_count": 6,
      "metadata": {
        "colab": {
          "base_uri": "https://localhost:8080/",
          "height": 143
        },
        "id": "0eh6CGrQkfKC",
        "outputId": "697c89fa-d8ad-438b-e248-895e8623aa47"
      },
      "outputs": [
        {
          "output_type": "execute_result",
          "data": {
            "text/plain": [
              "       headline  content\n",
              "label                   \n",
              "0          2339     2339\n",
              "1          2338     2338"
            ],
            "text/html": [
              "\n",
              "  <div id=\"df-ee03381e-1837-456e-9eba-a32e2f8527ff\">\n",
              "    <div class=\"colab-df-container\">\n",
              "      <div>\n",
              "<style scoped>\n",
              "    .dataframe tbody tr th:only-of-type {\n",
              "        vertical-align: middle;\n",
              "    }\n",
              "\n",
              "    .dataframe tbody tr th {\n",
              "        vertical-align: top;\n",
              "    }\n",
              "\n",
              "    .dataframe thead th {\n",
              "        text-align: right;\n",
              "    }\n",
              "</style>\n",
              "<table border=\"1\" class=\"dataframe\">\n",
              "  <thead>\n",
              "    <tr style=\"text-align: right;\">\n",
              "      <th></th>\n",
              "      <th>headline</th>\n",
              "      <th>content</th>\n",
              "    </tr>\n",
              "    <tr>\n",
              "      <th>label</th>\n",
              "      <th></th>\n",
              "      <th></th>\n",
              "    </tr>\n",
              "  </thead>\n",
              "  <tbody>\n",
              "    <tr>\n",
              "      <th>0</th>\n",
              "      <td>2339</td>\n",
              "      <td>2339</td>\n",
              "    </tr>\n",
              "    <tr>\n",
              "      <th>1</th>\n",
              "      <td>2338</td>\n",
              "      <td>2338</td>\n",
              "    </tr>\n",
              "  </tbody>\n",
              "</table>\n",
              "</div>\n",
              "      <button class=\"colab-df-convert\" onclick=\"convertToInteractive('df-ee03381e-1837-456e-9eba-a32e2f8527ff')\"\n",
              "              title=\"Convert this dataframe to an interactive table.\"\n",
              "              style=\"display:none;\">\n",
              "        \n",
              "  <svg xmlns=\"http://www.w3.org/2000/svg\" height=\"24px\"viewBox=\"0 0 24 24\"\n",
              "       width=\"24px\">\n",
              "    <path d=\"M0 0h24v24H0V0z\" fill=\"none\"/>\n",
              "    <path d=\"M18.56 5.44l.94 2.06.94-2.06 2.06-.94-2.06-.94-.94-2.06-.94 2.06-2.06.94zm-11 1L8.5 8.5l.94-2.06 2.06-.94-2.06-.94L8.5 2.5l-.94 2.06-2.06.94zm10 10l.94 2.06.94-2.06 2.06-.94-2.06-.94-.94-2.06-.94 2.06-2.06.94z\"/><path d=\"M17.41 7.96l-1.37-1.37c-.4-.4-.92-.59-1.43-.59-.52 0-1.04.2-1.43.59L10.3 9.45l-7.72 7.72c-.78.78-.78 2.05 0 2.83L4 21.41c.39.39.9.59 1.41.59.51 0 1.02-.2 1.41-.59l7.78-7.78 2.81-2.81c.8-.78.8-2.07 0-2.86zM5.41 20L4 18.59l7.72-7.72 1.47 1.35L5.41 20z\"/>\n",
              "  </svg>\n",
              "      </button>\n",
              "      \n",
              "  <style>\n",
              "    .colab-df-container {\n",
              "      display:flex;\n",
              "      flex-wrap:wrap;\n",
              "      gap: 12px;\n",
              "    }\n",
              "\n",
              "    .colab-df-convert {\n",
              "      background-color: #E8F0FE;\n",
              "      border: none;\n",
              "      border-radius: 50%;\n",
              "      cursor: pointer;\n",
              "      display: none;\n",
              "      fill: #1967D2;\n",
              "      height: 32px;\n",
              "      padding: 0 0 0 0;\n",
              "      width: 32px;\n",
              "    }\n",
              "\n",
              "    .colab-df-convert:hover {\n",
              "      background-color: #E2EBFA;\n",
              "      box-shadow: 0px 1px 2px rgba(60, 64, 67, 0.3), 0px 1px 3px 1px rgba(60, 64, 67, 0.15);\n",
              "      fill: #174EA6;\n",
              "    }\n",
              "\n",
              "    [theme=dark] .colab-df-convert {\n",
              "      background-color: #3B4455;\n",
              "      fill: #D2E3FC;\n",
              "    }\n",
              "\n",
              "    [theme=dark] .colab-df-convert:hover {\n",
              "      background-color: #434B5C;\n",
              "      box-shadow: 0px 1px 3px 1px rgba(0, 0, 0, 0.15);\n",
              "      filter: drop-shadow(0px 1px 2px rgba(0, 0, 0, 0.3));\n",
              "      fill: #FFFFFF;\n",
              "    }\n",
              "  </style>\n",
              "\n",
              "      <script>\n",
              "        const buttonEl =\n",
              "          document.querySelector('#df-ee03381e-1837-456e-9eba-a32e2f8527ff button.colab-df-convert');\n",
              "        buttonEl.style.display =\n",
              "          google.colab.kernel.accessAllowed ? 'block' : 'none';\n",
              "\n",
              "        async function convertToInteractive(key) {\n",
              "          const element = document.querySelector('#df-ee03381e-1837-456e-9eba-a32e2f8527ff');\n",
              "          const dataTable =\n",
              "            await google.colab.kernel.invokeFunction('convertToInteractive',\n",
              "                                                     [key], {});\n",
              "          if (!dataTable) return;\n",
              "\n",
              "          const docLinkHtml = 'Like what you see? Visit the ' +\n",
              "            '<a target=\"_blank\" href=https://colab.research.google.com/notebooks/data_table.ipynb>data table notebook</a>'\n",
              "            + ' to learn more about interactive tables.';\n",
              "          element.innerHTML = '';\n",
              "          dataTable['output_type'] = 'display_data';\n",
              "          await google.colab.output.renderOutput(dataTable, element);\n",
              "          const docLink = document.createElement('div');\n",
              "          docLink.innerHTML = docLinkHtml;\n",
              "          element.appendChild(docLink);\n",
              "        }\n",
              "      </script>\n",
              "    </div>\n",
              "  </div>\n",
              "  "
            ]
          },
          "metadata": {},
          "execution_count": 6
        }
      ],
      "source": [
        "df.groupby('label').agg('count')"
      ]
    },
    {
      "cell_type": "code",
      "execution_count": 7,
      "metadata": {
        "id": "HClWoM0Akr8B"
      },
      "outputs": [],
      "source": [
        "X=df.content\n",
        "Y=df.label"
      ]
    },
    {
      "cell_type": "code",
      "execution_count": 8,
      "metadata": {
        "colab": {
          "base_uri": "https://localhost:8080/"
        },
        "id": "SRInFEVTkwSp",
        "outputId": "78aa8307-9515-47bc-fe2c-2507f94d6a2b"
      },
      "outputs": [
        {
          "output_type": "execute_result",
          "data": {
            "text/plain": [
              "0    2339\n",
              "1    2338\n",
              "Name: label, dtype: int64"
            ]
          },
          "metadata": {},
          "execution_count": 8
        }
      ],
      "source": [
        "Y.value_counts()"
      ]
    },
    {
      "cell_type": "code",
      "execution_count": 9,
      "metadata": {
        "colab": {
          "base_uri": "https://localhost:8080/"
        },
        "id": "D-a5z8uxk11K",
        "outputId": "83c96bf9-1544-49f3-e1a2-b4cf5a178ace"
      },
      "outputs": [
        {
          "output_type": "execute_result",
          "data": {
            "text/plain": [
              "(4677,)"
            ]
          },
          "metadata": {},
          "execution_count": 9
        }
      ],
      "source": [
        "X.shape"
      ]
    },
    {
      "cell_type": "code",
      "execution_count": 10,
      "metadata": {
        "id": "HgmDabVAk3Va"
      },
      "outputs": [],
      "source": [
        "from tensorflow.keras.layers import Embedding\n",
        "from tensorflow.keras.preprocessing.sequence import pad_sequences\n",
        "from tensorflow.keras.models import Sequential\n",
        "from tensorflow.keras.preprocessing.text import one_hot\n",
        "from tensorflow.keras.layers import LSTM\n",
        "from tensorflow.keras.layers import Dense\n",
        "from tensorflow.keras.layers import Bidirectional\n",
        "from tensorflow.keras.layers import Dropout\n",
        "from keras.callbacks import EarlyStopping"
      ]
    },
    {
      "cell_type": "markdown",
      "metadata": {
        "id": "OyfuZecDlAQ2"
      },
      "source": [
        "Onehot Representation\n"
      ]
    },
    {
      "cell_type": "code",
      "execution_count": 11,
      "metadata": {
        "id": "0wtILdVCl-Ig"
      },
      "outputs": [],
      "source": [
        "voc_size=89000"
      ]
    },
    {
      "cell_type": "code",
      "execution_count": 12,
      "metadata": {
        "id": "3ZXgMhhulXQK"
      },
      "outputs": [],
      "source": [
        "onehot_repr=[one_hot(words,voc_size)for words in X]"
      ]
    },
    {
      "cell_type": "code",
      "execution_count": 13,
      "metadata": {
        "colab": {
          "base_uri": "https://localhost:8080/"
        },
        "id": "yrdK7lbkmD0q",
        "outputId": "9a7bce3e-66c3-47e0-d46b-a78dec39e8a1"
      },
      "outputs": [
        {
          "output_type": "execute_result",
          "data": {
            "text/plain": [
              "4677"
            ]
          },
          "metadata": {},
          "execution_count": 13
        }
      ],
      "source": [
        "len(onehot_repr)"
      ]
    },
    {
      "cell_type": "code",
      "execution_count": 14,
      "metadata": {
        "colab": {
          "base_uri": "https://localhost:8080/"
        },
        "id": "3AcoW1RUm41i",
        "outputId": "901de2e5-176d-48cd-de75-1a01bc98c723"
      },
      "outputs": [
        {
          "output_type": "stream",
          "name": "stdout",
          "text": [
            "[[    0     0     0 ... 57014 34240 76581]\n",
            " [69739 66752 75335 ... 62732 88095 54243]\n",
            " [    0     0     0 ... 29358 88095 54243]\n",
            " ...\n",
            " [    0     0     0 ... 81968 87387 29152]\n",
            " [    0     0     0 ... 65208 39825 26703]\n",
            " [    0     0     0 ... 79702  2085 32403]]\n"
          ]
        }
      ],
      "source": [
        "news_length=300\n",
        "embedded_news=pad_sequences(onehot_repr,padding='pre',maxlen=news_length)\n",
        "print(embedded_news)"
      ]
    },
    {
      "cell_type": "code",
      "execution_count": 15,
      "metadata": {
        "colab": {
          "base_uri": "https://localhost:8080/"
        },
        "id": "yR1dua8dnxbK",
        "outputId": "df482158-b33f-478a-8b0c-112c3ce059ab"
      },
      "outputs": [
        {
          "output_type": "execute_result",
          "data": {
            "text/plain": [
              "array([    0,     0,     0,     0,     0,     0,     0,     0,     0,\n",
              "           0,     0,     0,     0,     0,     0,     0,     0,     0,\n",
              "           0,     0,     0,     0,     0,     0,     0,     0,     0,\n",
              "           0,     0,     0,     0,     0,     0,     0,     0,     0,\n",
              "           0,     0,     0,     0,     0,     0,     0,     0,     0,\n",
              "           0,     0,     0,     0,     0,     0,     0,     0,     0,\n",
              "           0,     0,     0,     0,     0,     0,     0,     0,     0,\n",
              "           0,     0,     0,     0,     0,     0,     0,     0,     0,\n",
              "           0,     0,     0, 84234, 54828, 78877,  7986, 30864, 71117,\n",
              "       77791, 87958, 42630, 46706, 49077, 63324, 69739, 66752, 65488,\n",
              "       84602, 65452, 54469,  1245, 50401, 65035, 33335, 34891, 53486,\n",
              "       11170, 73761, 52356, 37623, 72600, 10733, 50628, 51896,  9296,\n",
              "       55780, 24714,  6298, 46706, 49077, 63324, 69739, 66752, 75335,\n",
              "       84602, 65452, 54469, 81545,  1245, 35976, 49396, 32666, 34990,\n",
              "       51282, 46183, 85738, 11212, 18649, 74588, 60640, 18567, 58522,\n",
              "       61347, 34612, 37685, 34891, 65917, 73013, 86386, 15715, 69023,\n",
              "       19718, 77791, 42630, 53486, 73761,  3318, 42630, 33335, 34891,\n",
              "       55030, 87958, 76294, 17389, 76294, 13189, 29241, 37623, 60223,\n",
              "       88770, 46291, 68502, 87676, 64977, 35976, 49396, 79459, 62383,\n",
              "        9848, 51276, 21110, 44564, 64863, 28654, 28654, 75776, 77077,\n",
              "       59284, 11067, 51602, 52589, 23205, 34644, 12543, 80486, 55308,\n",
              "       29629, 72167, 27011, 52957, 69233, 75930, 42180, 83618, 72127,\n",
              "       26521, 73179, 53486, 73761, 60223, 32270, 51896,  9296, 55780,\n",
              "       33321,  5124, 58351, 75186, 34277, 33321, 14756,  4143, 50486,\n",
              "       29777, 17431, 45730, 37732,  8010, 15684, 50486, 29777, 88871,\n",
              "        4459, 58025, 75057, 40394, 80306, 37623, 33321, 79668, 21390,\n",
              "       47658, 86586, 50486, 29777, 69455, 17207, 31956, 50486, 47413,\n",
              "       36061, 52629, 84972, 28038, 54243, 15056, 30884, 10782, 20700,\n",
              "       50486, 29777,  3920, 53819, 73412, 28654, 28654, 53486, 73761,\n",
              "       46706, 88243, 69739, 66752,   644, 30130, 82048, 42180, 60310,\n",
              "       71830, 80864, 61179,  4537, 42115, 34343,  4473, 29777, 71096,\n",
              "       50486, 29777, 67062, 15715,  9070,  8400,  8139, 85967, 23567,\n",
              "       11170, 73761,  7905, 48621, 80818,  7049, 41671, 57014, 25145,\n",
              "       57014, 34240, 76581], dtype=int32)"
            ]
          },
          "metadata": {},
          "execution_count": 15
        }
      ],
      "source": [
        "embedded_news[0]\n"
      ]
    },
    {
      "cell_type": "code",
      "execution_count": 16,
      "metadata": {
        "colab": {
          "base_uri": "https://localhost:8080/"
        },
        "id": "TzJLnmPbn_V5",
        "outputId": "a7c1048d-f102-4187-e492-c0fd4346a80c"
      },
      "outputs": [
        {
          "output_type": "execute_result",
          "data": {
            "text/plain": [
              "(4677, (4677,))"
            ]
          },
          "metadata": {},
          "execution_count": 16
        }
      ],
      "source": [
        "len(embedded_news),Y.shape"
      ]
    },
    {
      "cell_type": "code",
      "execution_count": 17,
      "metadata": {
        "id": "MLe-T0GyoFbq"
      },
      "outputs": [],
      "source": [
        "import numpy as np\n",
        "X_final=np.array(embedded_news)\n",
        "y_final=np.array(Y)"
      ]
    },
    {
      "cell_type": "code",
      "execution_count": 18,
      "metadata": {
        "colab": {
          "base_uri": "https://localhost:8080/"
        },
        "id": "oMalWiVloJuC",
        "outputId": "7fcb146f-8fb5-4628-c28e-d48fd2cb32c8"
      },
      "outputs": [
        {
          "output_type": "execute_result",
          "data": {
            "text/plain": [
              "((4677, 300), (4677,))"
            ]
          },
          "metadata": {},
          "execution_count": 18
        }
      ],
      "source": [
        "X_final.shape,y_final.shape"
      ]
    },
    {
      "cell_type": "code",
      "execution_count": 19,
      "metadata": {
        "id": "GTeEyab6oLvi"
      },
      "outputs": [],
      "source": [
        "from sklearn.model_selection import train_test_split\n",
        "X_train, X_test, y_train, y_test = train_test_split(X_final, y_final, test_size=0.25, random_state=99)"
      ]
    },
    {
      "cell_type": "markdown",
      "source": [
        "# **LSTM MODEL**"
      ],
      "metadata": {
        "id": "5Tg8TDW8yM4O"
      }
    },
    {
      "cell_type": "code",
      "execution_count": 20,
      "metadata": {
        "colab": {
          "base_uri": "https://localhost:8080/"
        },
        "id": "QchriyV6nyxp",
        "outputId": "22ad0a38-aa27-40e8-e3e1-880590f0189c"
      },
      "outputs": [
        {
          "output_type": "stream",
          "name": "stdout",
          "text": [
            "Model: \"sequential\"\n",
            "_________________________________________________________________\n",
            " Layer (type)                Output Shape              Param #   \n",
            "=================================================================\n",
            " embedding (Embedding)       (None, 300, 40)           3560000   \n",
            "                                                                 \n",
            " lstm (LSTM)                 (None, 100)               56400     \n",
            "                                                                 \n",
            " dense (Dense)               (None, 1)                 101       \n",
            "                                                                 \n",
            "=================================================================\n",
            "Total params: 3,616,501\n",
            "Trainable params: 3,616,501\n",
            "Non-trainable params: 0\n",
            "_________________________________________________________________\n",
            "None\n",
            "Epoch 1/8\n",
            "55/55 [==============================] - 9s 30ms/step - loss: 0.4956 - accuracy: 0.7496 - val_loss: 0.2433 - val_accuracy: 0.9205\n",
            "Epoch 2/8\n",
            "55/55 [==============================] - 1s 21ms/step - loss: 0.1245 - accuracy: 0.9638 - val_loss: 0.1846 - val_accuracy: 0.9239\n",
            "Epoch 3/8\n",
            "55/55 [==============================] - 1s 21ms/step - loss: 0.0283 - accuracy: 0.9929 - val_loss: 0.1870 - val_accuracy: 0.9385\n",
            "Epoch 4/8\n",
            "55/55 [==============================] - 1s 21ms/step - loss: 0.0074 - accuracy: 0.9986 - val_loss: 0.1922 - val_accuracy: 0.9368\n",
            "Epoch 5/8\n",
            "55/55 [==============================] - 1s 21ms/step - loss: 0.0171 - accuracy: 0.9974 - val_loss: 0.2010 - val_accuracy: 0.9291\n",
            "Epoch 6/8\n",
            "55/55 [==============================] - ETA: 0s - loss: 0.0056 - accuracy: 0.9994Restoring model weights from the end of the best epoch: 3.\n",
            "55/55 [==============================] - 1s 21ms/step - loss: 0.0056 - accuracy: 0.9994 - val_loss: 0.2071 - val_accuracy: 0.9299\n",
            "Epoch 6: early stopping\n"
          ]
        },
        {
          "output_type": "execute_result",
          "data": {
            "text/plain": [
              "<keras.callbacks.History at 0x7f06d0261e10>"
            ]
          },
          "metadata": {},
          "execution_count": 20
        }
      ],
      "source": [
        "embedding_vector_features=40\n",
        "model1=Sequential()\n",
        "model1.add(Embedding(voc_size,embedding_vector_features,input_length=news_length))\n",
        "model1.add(LSTM(100))\n",
        "model1.add(Dense(1,activation='sigmoid'))\n",
        "model1.compile(loss='binary_crossentropy',optimizer='adam',metrics=['accuracy'])\n",
        "print(model1.summary())\n",
        "model1.fit(X_train,y_train,validation_data=(X_test,y_test),epochs=8,batch_size=64,\n",
        "    callbacks=[EarlyStopping(monitor=\"val_accuracy\",\n",
        "    min_delta=0,\n",
        "    patience=3,\n",
        "    verbose=1,\n",
        "    mode=\"auto\",\n",
        "    restore_best_weights=True,)])"
      ]
    },
    {
      "cell_type": "markdown",
      "source": [
        "# **CNN+LSTM MODEL**"
      ],
      "metadata": {
        "id": "9-HsAAhxRPK5"
      }
    },
    {
      "cell_type": "code",
      "source": [
        "from keras.layers import Dense,Conv1D,MaxPooling1D"
      ],
      "metadata": {
        "id": "JezijLJd_vzg"
      },
      "execution_count": 21,
      "outputs": []
    },
    {
      "cell_type": "code",
      "source": [
        "embedding_vecor_length = 40\n",
        "model2 = Sequential()\n",
        "model2.add(Embedding(voc_size, embedding_vecor_length, input_length=news_length))\n",
        "model2.add(Conv1D(filters=32, kernel_size=3, padding='same', activation='relu'))\n",
        "model2.add(MaxPooling1D(pool_size=2))\n",
        "model2.add(LSTM(100))\n",
        "model2.add(Dense(1, activation='sigmoid'))\n",
        "model2.compile(loss='binary_crossentropy', optimizer='adam', metrics=['accuracy'])\n",
        "print(model2.summary())\n",
        "model2.fit(X_train,y_train,validation_data=(X_test,y_test),epochs=8,batch_size=64,\n",
        "    callbacks=[EarlyStopping(monitor=\"val_accuracy\",\n",
        "    min_delta=0,\n",
        "    patience=3,\n",
        "    verbose=1,\n",
        "    mode=\"auto\",\n",
        "    restore_best_weights=True,)])"
      ],
      "metadata": {
        "colab": {
          "base_uri": "https://localhost:8080/"
        },
        "id": "K2NQHdZY_mM1",
        "outputId": "ae748605-77d9-434a-9a7b-38be5e417f81"
      },
      "execution_count": 22,
      "outputs": [
        {
          "output_type": "stream",
          "name": "stdout",
          "text": [
            "Model: \"sequential_1\"\n",
            "_________________________________________________________________\n",
            " Layer (type)                Output Shape              Param #   \n",
            "=================================================================\n",
            " embedding_1 (Embedding)     (None, 300, 40)           3560000   \n",
            "                                                                 \n",
            " conv1d (Conv1D)             (None, 300, 32)           3872      \n",
            "                                                                 \n",
            " max_pooling1d (MaxPooling1D  (None, 150, 32)          0         \n",
            " )                                                               \n",
            "                                                                 \n",
            " lstm_1 (LSTM)               (None, 100)               53200     \n",
            "                                                                 \n",
            " dense_1 (Dense)             (None, 1)                 101       \n",
            "                                                                 \n",
            "=================================================================\n",
            "Total params: 3,617,173\n",
            "Trainable params: 3,617,173\n",
            "Non-trainable params: 0\n",
            "_________________________________________________________________\n",
            "None\n",
            "Epoch 1/8\n",
            "55/55 [==============================] - 9s 24ms/step - loss: 0.5332 - accuracy: 0.7114 - val_loss: 0.2203 - val_accuracy: 0.9248\n",
            "Epoch 2/8\n",
            "55/55 [==============================] - 1s 15ms/step - loss: 0.1098 - accuracy: 0.9666 - val_loss: 0.1649 - val_accuracy: 0.9402\n",
            "Epoch 3/8\n",
            "55/55 [==============================] - 1s 15ms/step - loss: 0.0251 - accuracy: 0.9960 - val_loss: 0.2088 - val_accuracy: 0.9444\n",
            "Epoch 4/8\n",
            "55/55 [==============================] - 1s 15ms/step - loss: 0.0054 - accuracy: 0.9989 - val_loss: 0.2081 - val_accuracy: 0.9479\n",
            "Epoch 5/8\n",
            "55/55 [==============================] - 1s 15ms/step - loss: 0.0021 - accuracy: 0.9997 - val_loss: 0.2115 - val_accuracy: 0.9427\n",
            "Epoch 6/8\n",
            "55/55 [==============================] - 1s 15ms/step - loss: 0.0011 - accuracy: 0.9997 - val_loss: 0.2501 - val_accuracy: 0.9470\n",
            "Epoch 7/8\n",
            "54/55 [============================>.] - ETA: 0s - loss: 8.6394e-04 - accuracy: 0.9997Restoring model weights from the end of the best epoch: 4.\n",
            "55/55 [==============================] - 1s 15ms/step - loss: 8.5465e-04 - accuracy: 0.9997 - val_loss: 0.2654 - val_accuracy: 0.9453\n",
            "Epoch 7: early stopping\n"
          ]
        },
        {
          "output_type": "execute_result",
          "data": {
            "text/plain": [
              "<keras.callbacks.History at 0x7f0659ec4310>"
            ]
          },
          "metadata": {},
          "execution_count": 22
        }
      ]
    },
    {
      "cell_type": "markdown",
      "source": [
        "LSTM and CNN+LSTM evaluation"
      ],
      "metadata": {
        "id": "Urelbu5gYamk"
      }
    },
    {
      "cell_type": "code",
      "execution_count": 23,
      "metadata": {
        "id": "cm1oVuvOqgta"
      },
      "outputs": [],
      "source": [
        "y_pred1=model1.predict(X_test)\n",
        "y_pred2=model2.predict(X_test)"
      ]
    },
    {
      "cell_type": "code",
      "source": [
        "from sklearn.metrics import accuracy_score\n",
        "from sklearn.metrics import classification_report\n",
        "from sklearn.metrics import confusion_matrix"
      ],
      "metadata": {
        "id": "0QzMxLNVLSNN"
      },
      "execution_count": 24,
      "outputs": []
    },
    {
      "cell_type": "code",
      "source": [
        "print(\"LSTM accuracy:%.4f\"%accuracy_score(y_test,np.around(y_pred1)))\n",
        "print(\"CNN+LSTM accuracy:%.4f\"%accuracy_score(y_test,np.around(y_pred2)))"
      ],
      "metadata": {
        "id": "A2ik3zmVAJI6",
        "colab": {
          "base_uri": "https://localhost:8080/"
        },
        "outputId": "a51b023d-1b7f-4be4-b10b-973f0625ec18"
      },
      "execution_count": 25,
      "outputs": [
        {
          "output_type": "stream",
          "name": "stdout",
          "text": [
            "LSTM accuracy:0.9385\n",
            "CNN+LSTM accuracy:0.9479\n"
          ]
        }
      ]
    },
    {
      "cell_type": "code",
      "source": [
        "print(\"LSTM:\\n\", classification_report(y_test,np.around(y_pred1),digits=4))\n",
        "print(\"\\nCNN+LSTM:\\n\", classification_report(y_test,np.around(y_pred2),digits=4))"
      ],
      "metadata": {
        "id": "QaIirFDxANHy",
        "colab": {
          "base_uri": "https://localhost:8080/"
        },
        "outputId": "a60310a8-4161-4d71-ffb7-41c7cb340879"
      },
      "execution_count": 26,
      "outputs": [
        {
          "output_type": "stream",
          "name": "stdout",
          "text": [
            "LSTM:\n",
            "               precision    recall  f1-score   support\n",
            "\n",
            "           0     0.9501    0.9237    0.9367       577\n",
            "           1     0.9278    0.9528    0.9401       593\n",
            "\n",
            "    accuracy                         0.9385      1170\n",
            "   macro avg     0.9389    0.9383    0.9384      1170\n",
            "weighted avg     0.9388    0.9385    0.9384      1170\n",
            "\n",
            "\n",
            "CNN+LSTM:\n",
            "               precision    recall  f1-score   support\n",
            "\n",
            "           0     0.9708    0.9220    0.9458       577\n",
            "           1     0.9277    0.9730    0.9498       593\n",
            "\n",
            "    accuracy                         0.9479      1170\n",
            "   macro avg     0.9492    0.9475    0.9478      1170\n",
            "weighted avg     0.9489    0.9479    0.9478      1170\n",
            "\n"
          ]
        }
      ]
    },
    {
      "cell_type": "code",
      "source": [
        "print(\"LSTM confusion matrix:\\n \",confusion_matrix(y_test,np.around(y_pred1)))\n",
        "print(\"\\nCNN+LSTM confusion matrix:\\n\",confusion_matrix(y_test,np.around(y_pred2)))"
      ],
      "metadata": {
        "colab": {
          "base_uri": "https://localhost:8080/"
        },
        "id": "wL-hln5fTpd-",
        "outputId": "7096ceeb-fae2-4664-955a-2f3ca91fb338"
      },
      "execution_count": 27,
      "outputs": [
        {
          "output_type": "stream",
          "name": "stdout",
          "text": [
            "LSTM confusion matrix:\n",
            "  [[533  44]\n",
            " [ 28 565]]\n",
            "\n",
            "CNN+LSTM confusion matrix:\n",
            " [[532  45]\n",
            " [ 16 577]]\n"
          ]
        }
      ]
    },
    {
      "cell_type": "markdown",
      "source": [
        "#**Bi-LSTM MODEL**"
      ],
      "metadata": {
        "id": "NlOAkr14z3dF"
      }
    },
    {
      "cell_type": "code",
      "execution_count": 28,
      "metadata": {
        "id": "brBUzzMXn4wp",
        "colab": {
          "base_uri": "https://localhost:8080/"
        },
        "outputId": "ba923906-863b-41e3-b5aa-093db7de067a"
      },
      "outputs": [
        {
          "output_type": "stream",
          "name": "stdout",
          "text": [
            "Model: \"sequential_2\"\n",
            "_________________________________________________________________\n",
            " Layer (type)                Output Shape              Param #   \n",
            "=================================================================\n",
            " embedding_2 (Embedding)     (None, 300, 40)           3560000   \n",
            "                                                                 \n",
            " bidirectional (Bidirectiona  (None, 200)              112800    \n",
            " l)                                                              \n",
            "                                                                 \n",
            " dropout (Dropout)           (None, 200)               0         \n",
            "                                                                 \n",
            " dense_2 (Dense)             (None, 1)                 201       \n",
            "                                                                 \n",
            "=================================================================\n",
            "Total params: 3,673,001\n",
            "Trainable params: 3,673,001\n",
            "Non-trainable params: 0\n",
            "_________________________________________________________________\n",
            "None\n",
            "Epoch 1/8\n",
            "55/55 [==============================] - 6s 51ms/step - loss: 0.6394 - accuracy: 0.7294 - val_loss: 0.5026 - val_accuracy: 0.8966\n",
            "Epoch 2/8\n",
            "55/55 [==============================] - 2s 35ms/step - loss: 0.2597 - accuracy: 0.9247 - val_loss: 0.2037 - val_accuracy: 0.9188\n",
            "Epoch 3/8\n",
            "55/55 [==============================] - 2s 36ms/step - loss: 0.0849 - accuracy: 0.9809 - val_loss: 0.2688 - val_accuracy: 0.9017\n",
            "Epoch 4/8\n",
            "55/55 [==============================] - 2s 35ms/step - loss: 0.0514 - accuracy: 0.9886 - val_loss: 0.1775 - val_accuracy: 0.9316\n",
            "Epoch 5/8\n",
            "55/55 [==============================] - 2s 35ms/step - loss: 0.0101 - accuracy: 0.9977 - val_loss: 0.1993 - val_accuracy: 0.9453\n",
            "Epoch 6/8\n",
            "55/55 [==============================] - 2s 36ms/step - loss: 0.0043 - accuracy: 0.9997 - val_loss: 0.2157 - val_accuracy: 0.9504\n",
            "Epoch 7/8\n",
            "55/55 [==============================] - 2s 37ms/step - loss: 0.0060 - accuracy: 0.9994 - val_loss: 0.2305 - val_accuracy: 0.9342\n",
            "Epoch 8/8\n",
            "55/55 [==============================] - 2s 36ms/step - loss: 0.0054 - accuracy: 0.9997 - val_loss: 0.2475 - val_accuracy: 0.9453\n"
          ]
        },
        {
          "output_type": "execute_result",
          "data": {
            "text/plain": [
              "<keras.callbacks.History at 0x7f06584421d0>"
            ]
          },
          "metadata": {},
          "execution_count": 28
        }
      ],
      "source": [
        "embedding_vector_features=40\n",
        "model3=Sequential()\n",
        "model3.add(Embedding(voc_size,embedding_vector_features,input_length=news_length))\n",
        "model3.add(Bidirectional(LSTM(100)))\n",
        "model3.add(Dropout(0.3))\n",
        "model3.add(Dense(1,activation='sigmoid'))\n",
        "model3.compile(loss='binary_crossentropy',optimizer='adam',metrics=['accuracy'])\n",
        "print(model3.summary())\n",
        "model3.fit(X_train,y_train,validation_data=(X_test,y_test),epochs=8,batch_size=64,\n",
        "    callbacks=[EarlyStopping(monitor=\"val_accuracy\",\n",
        "    min_delta=0,\n",
        "    patience=3,\n",
        "    verbose=1,\n",
        "    mode=\"auto\",\n",
        "    restore_best_weights=True,)])"
      ]
    },
    {
      "cell_type": "markdown",
      "source": [
        "## **CNN+BiLSTM MODEL**"
      ],
      "metadata": {
        "id": "o_8oFG2rY2wg"
      }
    },
    {
      "cell_type": "code",
      "source": [
        "embedding_vecor_length = 40\n",
        "model4 = Sequential()\n",
        "model4.add(Embedding(voc_size, embedding_vecor_length, input_length=news_length))\n",
        "model4.add(Conv1D(filters=32, kernel_size=3, padding='same', activation='relu'))\n",
        "model4.add(MaxPooling1D(pool_size=2))\n",
        "model4.add(Bidirectional(LSTM(100)))\n",
        "model4.add(Dense(1, activation='sigmoid'))\n",
        "model4.compile(loss='binary_crossentropy', optimizer='adam', metrics=['accuracy'])\n",
        "print(model4.summary())\n",
        "model4.fit(X_train,y_train,validation_data=(X_test,y_test),epochs=8,batch_size=64,\n",
        "    callbacks=[EarlyStopping(monitor=\"val_accuracy\",\n",
        "    min_delta=0,\n",
        "    patience=3,\n",
        "    verbose=1,\n",
        "    mode=\"auto\",\n",
        "    restore_best_weights=True,)])"
      ],
      "metadata": {
        "colab": {
          "base_uri": "https://localhost:8080/"
        },
        "id": "IpqRP2iaCAVl",
        "outputId": "3eb93e7e-ca73-4336-84dd-20fd83be6eab"
      },
      "execution_count": 29,
      "outputs": [
        {
          "output_type": "stream",
          "name": "stdout",
          "text": [
            "Model: \"sequential_3\"\n",
            "_________________________________________________________________\n",
            " Layer (type)                Output Shape              Param #   \n",
            "=================================================================\n",
            " embedding_3 (Embedding)     (None, 300, 40)           3560000   \n",
            "                                                                 \n",
            " conv1d_1 (Conv1D)           (None, 300, 32)           3872      \n",
            "                                                                 \n",
            " max_pooling1d_1 (MaxPooling  (None, 150, 32)          0         \n",
            " 1D)                                                             \n",
            "                                                                 \n",
            " bidirectional_1 (Bidirectio  (None, 200)              106400    \n",
            " nal)                                                            \n",
            "                                                                 \n",
            " dense_3 (Dense)             (None, 1)                 201       \n",
            "                                                                 \n",
            "=================================================================\n",
            "Total params: 3,670,473\n",
            "Trainable params: 3,670,473\n",
            "Non-trainable params: 0\n",
            "_________________________________________________________________\n",
            "None\n",
            "Epoch 1/8\n",
            "55/55 [==============================] - 5s 38ms/step - loss: 0.5268 - accuracy: 0.7228 - val_loss: 0.2245 - val_accuracy: 0.9171\n",
            "Epoch 2/8\n",
            "55/55 [==============================] - 2s 30ms/step - loss: 0.1122 - accuracy: 0.9664 - val_loss: 0.1494 - val_accuracy: 0.9453\n",
            "Epoch 3/8\n",
            "55/55 [==============================] - 2s 33ms/step - loss: 0.0185 - accuracy: 0.9960 - val_loss: 0.2211 - val_accuracy: 0.9479\n",
            "Epoch 4/8\n",
            "55/55 [==============================] - 1s 23ms/step - loss: 0.0102 - accuracy: 0.9971 - val_loss: 0.2031 - val_accuracy: 0.9496\n",
            "Epoch 5/8\n",
            "55/55 [==============================] - 1s 23ms/step - loss: 0.0078 - accuracy: 0.9989 - val_loss: 0.1885 - val_accuracy: 0.9453\n",
            "Epoch 6/8\n",
            "55/55 [==============================] - 1s 23ms/step - loss: 0.0017 - accuracy: 1.0000 - val_loss: 0.2329 - val_accuracy: 0.9487\n",
            "Epoch 7/8\n",
            "55/55 [==============================] - ETA: 0s - loss: 5.5890e-04 - accuracy: 1.0000Restoring model weights from the end of the best epoch: 4.\n",
            "55/55 [==============================] - 1s 23ms/step - loss: 5.5890e-04 - accuracy: 1.0000 - val_loss: 0.2602 - val_accuracy: 0.9487\n",
            "Epoch 7: early stopping\n"
          ]
        },
        {
          "output_type": "execute_result",
          "data": {
            "text/plain": [
              "<keras.callbacks.History at 0x7f065729cbd0>"
            ]
          },
          "metadata": {},
          "execution_count": 29
        }
      ]
    },
    {
      "cell_type": "code",
      "execution_count": 30,
      "metadata": {
        "id": "2NfU27S5oSUW"
      },
      "outputs": [],
      "source": [
        "y_pred3=model3.predict(X_test)\n",
        "y_pred4=model4.predict(X_test)"
      ]
    },
    {
      "cell_type": "code",
      "execution_count": 31,
      "metadata": {
        "id": "cMWefLVVp29R",
        "colab": {
          "base_uri": "https://localhost:8080/"
        },
        "outputId": "20e43f09-01fc-44d6-dd38-8a4e01f5f96a"
      },
      "outputs": [
        {
          "output_type": "stream",
          "name": "stdout",
          "text": [
            "BiLSTM accuracy:0.9453\n",
            "CNN+BiLSTM accuracy:0.9496\n"
          ]
        }
      ],
      "source": [
        "print(\"BiLSTM accuracy:%.4f\"%accuracy_score(y_test,np.around(y_pred3)))\n",
        "print(\"CNN+BiLSTM accuracy:%.4f\"%accuracy_score(y_test,np.around(y_pred4)))"
      ]
    },
    {
      "cell_type": "code",
      "execution_count": 32,
      "metadata": {
        "id": "UggdAaXwqMp5",
        "colab": {
          "base_uri": "https://localhost:8080/"
        },
        "outputId": "12e6491e-b356-47f8-dbd4-927c7abcd280"
      },
      "outputs": [
        {
          "output_type": "stream",
          "name": "stdout",
          "text": [
            "BiLSTM:\n",
            "               precision    recall  f1-score   support\n",
            "\n",
            "           0     0.9476    0.9411    0.9443       577\n",
            "           1     0.9430    0.9494    0.9462       593\n",
            "\n",
            "    accuracy                         0.9453      1170\n",
            "   macro avg     0.9453    0.9452    0.9453      1170\n",
            "weighted avg     0.9453    0.9453    0.9453      1170\n",
            "\n",
            "\n",
            "CNN+BiLSTM:\n",
            "               precision    recall  f1-score   support\n",
            "\n",
            "           0     0.9761    0.9203    0.9474       577\n",
            "           1     0.9265    0.9781    0.9516       593\n",
            "\n",
            "    accuracy                         0.9496      1170\n",
            "   macro avg     0.9513    0.9492    0.9495      1170\n",
            "weighted avg     0.9510    0.9496    0.9495      1170\n",
            "\n"
          ]
        }
      ],
      "source": [
        "print(\"BiLSTM:\\n\",classification_report(y_test,np.around(y_pred3),digits=4))\n",
        "print(\"\\nCNN+BiLSTM:\\n\",classification_report(y_test,np.around(y_pred4),digits=4))"
      ]
    },
    {
      "cell_type": "code",
      "execution_count": 33,
      "metadata": {
        "id": "GVdsMUORp0Jp",
        "colab": {
          "base_uri": "https://localhost:8080/"
        },
        "outputId": "92206f74-35cd-41bb-c5bb-c61a19a2140b"
      },
      "outputs": [
        {
          "output_type": "stream",
          "name": "stdout",
          "text": [
            "BiLSTM confusion matrix:\n",
            " [[543  34]\n",
            " [ 30 563]]\n",
            "\n",
            "CNN+BiLSTM confusion matrix:\n",
            " [[531  46]\n",
            " [ 13 580]]\n"
          ]
        }
      ],
      "source": [
        "print(\"BiLSTM confusion matrix:\\n\",confusion_matrix(y_test,np.around(y_pred3)))\n",
        "print(\"\\nCNN+BiLSTM confusion matrix:\\n\",confusion_matrix(y_test,np.around(y_pred4)))"
      ]
    },
    {
      "cell_type": "code",
      "source": [],
      "metadata": {
        "id": "ir6-zld1oOBc"
      },
      "execution_count": 33,
      "outputs": []
    }
  ],
  "metadata": {
    "colab": {
      "provenance": [],
      "collapsed_sections": [],
      "authorship_tag": "ABX9TyPJddwKp/lg43TwjXHDUnd6",
      "include_colab_link": true
    },
    "kernelspec": {
      "display_name": "Python 3",
      "name": "python3"
    },
    "language_info": {
      "name": "python"
    },
    "accelerator": "GPU",
    "gpuClass": "standard"
  },
  "nbformat": 4,
  "nbformat_minor": 0
}