{
  "cells": [
    {
      "cell_type": "markdown",
      "metadata": {
        "id": "view-in-github",
        "colab_type": "text"
      },
      "source": [
        "<a href=\"https://colab.research.google.com/github/zihadbappy/Autumn20labs/blob/master/Final_LSTM_BiLSTM_CNN%2BLSTM_CNN%2BBiLSTM.ipynb\" target=\"_parent\"><img src=\"https://colab.research.google.com/assets/colab-badge.svg\" alt=\"Open In Colab\"/></a>"
      ]
    },
    {
      "cell_type": "code",
      "execution_count": 486,
      "metadata": {
        "colab": {
          "base_uri": "https://localhost:8080/"
        },
        "id": "yWwzky88kQDW",
        "outputId": "90ff33cc-ebb5-4dcd-9da0-8fe11d6f20e5"
      },
      "outputs": [
        {
          "output_type": "stream",
          "name": "stdout",
          "text": [
            "fatal: destination path 'bnfakedata' already exists and is not an empty directory.\n"
          ]
        }
      ],
      "source": [
        "!git clone https://github.com/zihadbappy/bnfakedata.git"
      ]
    },
    {
      "cell_type": "code",
      "execution_count": 487,
      "metadata": {
        "id": "zUKl__8RkaX0"
      },
      "outputs": [],
      "source": [
        "import pandas as pd\n",
        "Dataset= pd.read_csv('/content/bnfakedata/bnfakefinal.csv')"
      ]
    },
    {
      "cell_type": "code",
      "execution_count": 488,
      "metadata": {
        "id": "4or3X6M_kbZK"
      },
      "outputs": [],
      "source": [
        "df = pd.DataFrame(Dataset)"
      ]
    },
    {
      "cell_type": "code",
      "execution_count": 489,
      "metadata": {
        "id": "g8HDYbD7kdEK"
      },
      "outputs": [],
      "source": [
        "df = pd.DataFrame(Dataset)\n"
      ]
    },
    {
      "cell_type": "code",
      "execution_count": 490,
      "metadata": {
        "colab": {
          "base_uri": "https://localhost:8080/",
          "height": 143
        },
        "id": "0eh6CGrQkfKC",
        "outputId": "5a073a78-3754-43ab-802b-01c12f2fe038"
      },
      "outputs": [
        {
          "output_type": "execute_result",
          "data": {
            "text/plain": [
              "       headline  content\n",
              "label                   \n",
              "0          2790     2790\n",
              "1          2790     2789"
            ],
            "text/html": [
              "\n",
              "  <div id=\"df-abe13543-fd74-452c-9290-046d353c64da\">\n",
              "    <div class=\"colab-df-container\">\n",
              "      <div>\n",
              "<style scoped>\n",
              "    .dataframe tbody tr th:only-of-type {\n",
              "        vertical-align: middle;\n",
              "    }\n",
              "\n",
              "    .dataframe tbody tr th {\n",
              "        vertical-align: top;\n",
              "    }\n",
              "\n",
              "    .dataframe thead th {\n",
              "        text-align: right;\n",
              "    }\n",
              "</style>\n",
              "<table border=\"1\" class=\"dataframe\">\n",
              "  <thead>\n",
              "    <tr style=\"text-align: right;\">\n",
              "      <th></th>\n",
              "      <th>headline</th>\n",
              "      <th>content</th>\n",
              "    </tr>\n",
              "    <tr>\n",
              "      <th>label</th>\n",
              "      <th></th>\n",
              "      <th></th>\n",
              "    </tr>\n",
              "  </thead>\n",
              "  <tbody>\n",
              "    <tr>\n",
              "      <th>0</th>\n",
              "      <td>2790</td>\n",
              "      <td>2790</td>\n",
              "    </tr>\n",
              "    <tr>\n",
              "      <th>1</th>\n",
              "      <td>2790</td>\n",
              "      <td>2789</td>\n",
              "    </tr>\n",
              "  </tbody>\n",
              "</table>\n",
              "</div>\n",
              "      <button class=\"colab-df-convert\" onclick=\"convertToInteractive('df-abe13543-fd74-452c-9290-046d353c64da')\"\n",
              "              title=\"Convert this dataframe to an interactive table.\"\n",
              "              style=\"display:none;\">\n",
              "        \n",
              "  <svg xmlns=\"http://www.w3.org/2000/svg\" height=\"24px\"viewBox=\"0 0 24 24\"\n",
              "       width=\"24px\">\n",
              "    <path d=\"M0 0h24v24H0V0z\" fill=\"none\"/>\n",
              "    <path d=\"M18.56 5.44l.94 2.06.94-2.06 2.06-.94-2.06-.94-.94-2.06-.94 2.06-2.06.94zm-11 1L8.5 8.5l.94-2.06 2.06-.94-2.06-.94L8.5 2.5l-.94 2.06-2.06.94zm10 10l.94 2.06.94-2.06 2.06-.94-2.06-.94-.94-2.06-.94 2.06-2.06.94z\"/><path d=\"M17.41 7.96l-1.37-1.37c-.4-.4-.92-.59-1.43-.59-.52 0-1.04.2-1.43.59L10.3 9.45l-7.72 7.72c-.78.78-.78 2.05 0 2.83L4 21.41c.39.39.9.59 1.41.59.51 0 1.02-.2 1.41-.59l7.78-7.78 2.81-2.81c.8-.78.8-2.07 0-2.86zM5.41 20L4 18.59l7.72-7.72 1.47 1.35L5.41 20z\"/>\n",
              "  </svg>\n",
              "      </button>\n",
              "      \n",
              "  <style>\n",
              "    .colab-df-container {\n",
              "      display:flex;\n",
              "      flex-wrap:wrap;\n",
              "      gap: 12px;\n",
              "    }\n",
              "\n",
              "    .colab-df-convert {\n",
              "      background-color: #E8F0FE;\n",
              "      border: none;\n",
              "      border-radius: 50%;\n",
              "      cursor: pointer;\n",
              "      display: none;\n",
              "      fill: #1967D2;\n",
              "      height: 32px;\n",
              "      padding: 0 0 0 0;\n",
              "      width: 32px;\n",
              "    }\n",
              "\n",
              "    .colab-df-convert:hover {\n",
              "      background-color: #E2EBFA;\n",
              "      box-shadow: 0px 1px 2px rgba(60, 64, 67, 0.3), 0px 1px 3px 1px rgba(60, 64, 67, 0.15);\n",
              "      fill: #174EA6;\n",
              "    }\n",
              "\n",
              "    [theme=dark] .colab-df-convert {\n",
              "      background-color: #3B4455;\n",
              "      fill: #D2E3FC;\n",
              "    }\n",
              "\n",
              "    [theme=dark] .colab-df-convert:hover {\n",
              "      background-color: #434B5C;\n",
              "      box-shadow: 0px 1px 3px 1px rgba(0, 0, 0, 0.15);\n",
              "      filter: drop-shadow(0px 1px 2px rgba(0, 0, 0, 0.3));\n",
              "      fill: #FFFFFF;\n",
              "    }\n",
              "  </style>\n",
              "\n",
              "      <script>\n",
              "        const buttonEl =\n",
              "          document.querySelector('#df-abe13543-fd74-452c-9290-046d353c64da button.colab-df-convert');\n",
              "        buttonEl.style.display =\n",
              "          google.colab.kernel.accessAllowed ? 'block' : 'none';\n",
              "\n",
              "        async function convertToInteractive(key) {\n",
              "          const element = document.querySelector('#df-abe13543-fd74-452c-9290-046d353c64da');\n",
              "          const dataTable =\n",
              "            await google.colab.kernel.invokeFunction('convertToInteractive',\n",
              "                                                     [key], {});\n",
              "          if (!dataTable) return;\n",
              "\n",
              "          const docLinkHtml = 'Like what you see? Visit the ' +\n",
              "            '<a target=\"_blank\" href=https://colab.research.google.com/notebooks/data_table.ipynb>data table notebook</a>'\n",
              "            + ' to learn more about interactive tables.';\n",
              "          element.innerHTML = '';\n",
              "          dataTable['output_type'] = 'display_data';\n",
              "          await google.colab.output.renderOutput(dataTable, element);\n",
              "          const docLink = document.createElement('div');\n",
              "          docLink.innerHTML = docLinkHtml;\n",
              "          element.appendChild(docLink);\n",
              "        }\n",
              "      </script>\n",
              "    </div>\n",
              "  </div>\n",
              "  "
            ]
          },
          "metadata": {},
          "execution_count": 490
        }
      ],
      "source": [
        "df.groupby('label').agg('count')"
      ]
    },
    {
      "cell_type": "code",
      "execution_count": 491,
      "metadata": {
        "id": "Aqi9SlmSkkeC"
      },
      "outputs": [],
      "source": [
        "df=df.dropna()"
      ]
    },
    {
      "cell_type": "code",
      "execution_count": 492,
      "metadata": {
        "id": "HClWoM0Akr8B"
      },
      "outputs": [],
      "source": [
        "X=df.content\n",
        "Y=df.label"
      ]
    },
    {
      "cell_type": "code",
      "execution_count": 493,
      "metadata": {
        "colab": {
          "base_uri": "https://localhost:8080/"
        },
        "id": "SRInFEVTkwSp",
        "outputId": "ae01ca1e-d4bd-4f46-b555-61b55b182480"
      },
      "outputs": [
        {
          "output_type": "execute_result",
          "data": {
            "text/plain": [
              "0    2790\n",
              "1    2789\n",
              "Name: label, dtype: int64"
            ]
          },
          "metadata": {},
          "execution_count": 493
        }
      ],
      "source": [
        "Y.value_counts()"
      ]
    },
    {
      "cell_type": "code",
      "execution_count": 494,
      "metadata": {
        "colab": {
          "base_uri": "https://localhost:8080/"
        },
        "id": "D-a5z8uxk11K",
        "outputId": "e7fd3ee7-3ee2-4b98-f4ed-fe132058652e"
      },
      "outputs": [
        {
          "output_type": "execute_result",
          "data": {
            "text/plain": [
              "(5579,)"
            ]
          },
          "metadata": {},
          "execution_count": 494
        }
      ],
      "source": [
        "X.shape"
      ]
    },
    {
      "cell_type": "code",
      "execution_count": 495,
      "metadata": {
        "id": "HgmDabVAk3Va"
      },
      "outputs": [],
      "source": [
        "from tensorflow.keras.layers import Embedding\n",
        "from tensorflow.keras.preprocessing.sequence import pad_sequences\n",
        "from tensorflow.keras.models import Sequential\n",
        "from tensorflow.keras.preprocessing.text import one_hot\n",
        "from tensorflow.keras.layers import LSTM\n",
        "from tensorflow.keras.layers import Dense\n",
        "from tensorflow.keras.layers import Bidirectional\n",
        "from tensorflow.keras.layers import Dropout"
      ]
    },
    {
      "cell_type": "markdown",
      "metadata": {
        "id": "OyfuZecDlAQ2"
      },
      "source": [
        "Onehot Representation\n"
      ]
    },
    {
      "cell_type": "code",
      "execution_count": 496,
      "metadata": {
        "id": "0wtILdVCl-Ig"
      },
      "outputs": [],
      "source": [
        "voc_size=96000"
      ]
    },
    {
      "cell_type": "code",
      "execution_count": 497,
      "metadata": {
        "id": "3ZXgMhhulXQK"
      },
      "outputs": [],
      "source": [
        "onehot_repr=[one_hot(words,voc_size)for words in X]"
      ]
    },
    {
      "cell_type": "code",
      "execution_count": 498,
      "metadata": {
        "colab": {
          "base_uri": "https://localhost:8080/"
        },
        "id": "yrdK7lbkmD0q",
        "outputId": "d94e6df7-8ee0-4add-b929-1de8d965450c"
      },
      "outputs": [
        {
          "output_type": "execute_result",
          "data": {
            "text/plain": [
              "5579"
            ]
          },
          "metadata": {},
          "execution_count": 498
        }
      ],
      "source": [
        "len(onehot_repr)"
      ]
    },
    {
      "cell_type": "code",
      "execution_count": 499,
      "metadata": {
        "colab": {
          "base_uri": "https://localhost:8080/"
        },
        "id": "3AcoW1RUm41i",
        "outputId": "db0c2680-2e95-4e37-f00a-7fbb3ccb3a34"
      },
      "outputs": [
        {
          "output_type": "stream",
          "name": "stdout",
          "text": [
            "[[    0     0     0 ... 53594 65523 16909]\n",
            " [    0     0     0 ...  3635 10660  1667]\n",
            " [62387 92709 21482 ... 77144 10660  1667]\n",
            " ...\n",
            " [    0     0     0 ... 26122 53221  7967]\n",
            " [    0     0     0 ... 53336  7000 69174]\n",
            " [    0     0     0 ... 48232 93491 84295]]\n"
          ]
        }
      ],
      "source": [
        "news_length=300\n",
        "embedded_news=pad_sequences(onehot_repr,padding='pre',maxlen=news_length)\n",
        "print(embedded_news)"
      ]
    },
    {
      "cell_type": "code",
      "execution_count": 500,
      "metadata": {
        "colab": {
          "base_uri": "https://localhost:8080/"
        },
        "id": "yR1dua8dnxbK",
        "outputId": "4bdfe7f0-59a1-4a42-a805-65b6b972faa7"
      },
      "outputs": [
        {
          "output_type": "execute_result",
          "data": {
            "text/plain": [
              "array([    0,     0,     0,     0,     0,     0,     0,     0,     0,\n",
              "           0,     0,     0,     0,     0,     0,     0,     0,     0,\n",
              "           0,     0,     0,     0,     0,     0,     0,     0,     0,\n",
              "           0,     0,     0,     0,     0,     0,     0,     0,     0,\n",
              "           0,     0,     0,     0,     0,     0,     0,     0,     0,\n",
              "           0,     0,     0,     0,     0,     0,     0,     0,     0,\n",
              "           0,     0,     0,     0,     0,     0,     0,     0,     0,\n",
              "           0,     0,     0, 86335, 75502, 24216, 64487, 16297, 58603,\n",
              "       78941, 82259, 93931, 71005, 62045, 65685, 58191, 23735, 40106,\n",
              "       83277,  5242, 10883, 81471, 75256, 44324, 16175, 54032, 79483,\n",
              "       30398, 40106, 63670, 61299, 13375,  5242, 10883, 26113, 12127,\n",
              "       53047, 11210, 67710, 65194, 79166, 83002, 45768, 67749, 91198,\n",
              "       81344, 81904, 59753, 81471, 17375, 89391, 94145,  6337, 81471,\n",
              "       75256, 44324, 74692, 66779, 10883, 83277, 12127, 86460, 72372,\n",
              "       83553, 83553, 40341, 24216, 64487, 45594, 76658, 30087, 10920,\n",
              "       53750,  1962, 61845, 84191, 45429, 11600, 57125, 16175, 65316,\n",
              "       58191, 23735, 88164, 88164, 83277, 55439, 67749, 57792, 92444,\n",
              "        6342, 13794, 74556, 71005, 40353,  2048, 40680, 55439, 88273,\n",
              "       70556, 47382, 45843, 17268, 87019, 74556, 71005, 38521, 91717,\n",
              "        8025, 67749, 32883, 71005, 91198, 13682, 48603, 44420, 45653,\n",
              "       58191, 23735, 72604, 61845, 10883, 83277, 45864,  5873, 44957,\n",
              "       42276, 79166, 62413, 59279, 41871, 65194, 16472,  3439, 65278,\n",
              "       53544, 16472, 73771, 67749, 74556, 71005, 62045, 59279, 23837,\n",
              "       85047, 53544, 18637, 53417, 27586, 83089, 26128, 53952, 41814,\n",
              "       87422, 32873, 70339, 19367, 49666, 93448, 65685, 40680, 45864,\n",
              "       74812, 31475, 55439, 13788, 81508, 27594, 64187, 76103, 31475,\n",
              "       40106, 65194, 12127,  5873, 44616, 59279, 42946, 32873, 11404,\n",
              "       74889, 24622, 14276, 46777,  8340, 83836, 67749,  4030, 65685,\n",
              "       81471, 95331, 20519, 10883, 46467, 24622, 63670, 59753,  9057,\n",
              "       24806, 65523, 16674,  3377, 46777, 31899, 55587, 94156, 34472,\n",
              "       48178, 24622, 24622, 34472, 34472, 17699, 23852, 59526, 70339,\n",
              "       65316, 34827, 66032, 56129, 24755, 40680, 71343,   243, 68494,\n",
              "       16909, 34932, 75585, 16464, 90364, 86053, 12142, 40680, 71343,\n",
              "       53594, 65523, 16909], dtype=int32)"
            ]
          },
          "metadata": {},
          "execution_count": 500
        }
      ],
      "source": [
        "embedded_news[0]\n"
      ]
    },
    {
      "cell_type": "code",
      "execution_count": 501,
      "metadata": {
        "colab": {
          "base_uri": "https://localhost:8080/"
        },
        "id": "TzJLnmPbn_V5",
        "outputId": "29e7c360-b3ae-4fb8-b72d-690a84e325ec"
      },
      "outputs": [
        {
          "output_type": "execute_result",
          "data": {
            "text/plain": [
              "(5579, (5579,))"
            ]
          },
          "metadata": {},
          "execution_count": 501
        }
      ],
      "source": [
        "len(embedded_news),Y.shape"
      ]
    },
    {
      "cell_type": "code",
      "execution_count": 502,
      "metadata": {
        "id": "MLe-T0GyoFbq"
      },
      "outputs": [],
      "source": [
        "import numpy as np\n",
        "X_final=np.array(embedded_news)\n",
        "y_final=np.array(Y)"
      ]
    },
    {
      "cell_type": "code",
      "execution_count": 503,
      "metadata": {
        "colab": {
          "base_uri": "https://localhost:8080/"
        },
        "id": "oMalWiVloJuC",
        "outputId": "abe55744-ecba-49b7-e31d-a9f040245671"
      },
      "outputs": [
        {
          "output_type": "execute_result",
          "data": {
            "text/plain": [
              "((5579, 300), (5579,))"
            ]
          },
          "metadata": {},
          "execution_count": 503
        }
      ],
      "source": [
        "X_final.shape,y_final.shape"
      ]
    },
    {
      "cell_type": "code",
      "execution_count": 504,
      "metadata": {
        "id": "GTeEyab6oLvi"
      },
      "outputs": [],
      "source": [
        "from sklearn.model_selection import train_test_split\n",
        "X_train, X_test, y_train, y_test = train_test_split(X_final, y_final, test_size=0.25, random_state=99)"
      ]
    },
    {
      "cell_type": "markdown",
      "source": [
        "# **LSTM MODEL**"
      ],
      "metadata": {
        "id": "5Tg8TDW8yM4O"
      }
    },
    {
      "cell_type": "code",
      "execution_count": 505,
      "metadata": {
        "colab": {
          "base_uri": "https://localhost:8080/"
        },
        "id": "QchriyV6nyxp",
        "outputId": "54b23c23-4781-4ab9-9869-fd51121170ab"
      },
      "outputs": [
        {
          "output_type": "stream",
          "name": "stdout",
          "text": [
            "Model: \"sequential_58\"\n",
            "_________________________________________________________________\n",
            " Layer (type)                Output Shape              Param #   \n",
            "=================================================================\n",
            " embedding_58 (Embedding)    (None, 300, 40)           3840000   \n",
            "                                                                 \n",
            " lstm_58 (LSTM)              (None, 100)               56400     \n",
            "                                                                 \n",
            " dense_58 (Dense)            (None, 1)                 101       \n",
            "                                                                 \n",
            "=================================================================\n",
            "Total params: 3,896,501\n",
            "Trainable params: 3,896,501\n",
            "Non-trainable params: 0\n",
            "_________________________________________________________________\n",
            "None\n",
            "Epoch 1/8\n",
            "66/66 [==============================] - 4s 29ms/step - loss: 0.4213 - accuracy: 0.8260 - val_loss: 0.1787 - val_accuracy: 0.9427\n",
            "Epoch 2/8\n",
            "66/66 [==============================] - 1s 22ms/step - loss: 0.1116 - accuracy: 0.9694 - val_loss: 0.1417 - val_accuracy: 0.9520\n",
            "Epoch 3/8\n",
            "66/66 [==============================] - 1s 21ms/step - loss: 0.0318 - accuracy: 0.9933 - val_loss: 0.1406 - val_accuracy: 0.9491\n",
            "Epoch 4/8\n",
            "66/66 [==============================] - 1s 21ms/step - loss: 0.0321 - accuracy: 0.9955 - val_loss: 0.1393 - val_accuracy: 0.9548\n",
            "Epoch 5/8\n",
            "66/66 [==============================] - 1s 21ms/step - loss: 0.0064 - accuracy: 0.9988 - val_loss: 0.1621 - val_accuracy: 0.9570\n",
            "Epoch 6/8\n",
            "66/66 [==============================] - 1s 22ms/step - loss: 0.0024 - accuracy: 0.9995 - val_loss: 0.2160 - val_accuracy: 0.9556\n",
            "Epoch 7/8\n",
            "66/66 [==============================] - 1s 21ms/step - loss: 0.0032 - accuracy: 0.9995 - val_loss: 0.2721 - val_accuracy: 0.9441\n",
            "Epoch 8/8\n",
            "66/66 [==============================] - 1s 21ms/step - loss: 0.0028 - accuracy: 0.9995 - val_loss: 0.2979 - val_accuracy: 0.9491\n"
          ]
        },
        {
          "output_type": "execute_result",
          "data": {
            "text/plain": [
              "<keras.callbacks.History at 0x7feb3f5ffa90>"
            ]
          },
          "metadata": {},
          "execution_count": 505
        }
      ],
      "source": [
        "embedding_vector_features=40\n",
        "model1=Sequential()\n",
        "model1.add(Embedding(voc_size,embedding_vector_features,input_length=news_length))\n",
        "model1.add(LSTM(100))\n",
        "model1.add(Dense(1,activation='sigmoid'))\n",
        "model1.compile(loss='binary_crossentropy',optimizer='adam',metrics=['accuracy'])\n",
        "print(model1.summary())\n",
        "model1.fit(X_train,y_train,validation_data=(X_test,y_test),epochs=8,batch_size=64)"
      ]
    },
    {
      "cell_type": "markdown",
      "source": [
        "# **CNN+LSTM MODEL**"
      ],
      "metadata": {
        "id": "9-HsAAhxRPK5"
      }
    },
    {
      "cell_type": "code",
      "source": [
        "from keras.layers import Dense,Conv1D,MaxPooling1D"
      ],
      "metadata": {
        "id": "JezijLJd_vzg"
      },
      "execution_count": 506,
      "outputs": []
    },
    {
      "cell_type": "code",
      "source": [
        "embedding_vecor_length = 40\n",
        "model2 = Sequential()\n",
        "model2.add(Embedding(voc_size, embedding_vecor_length, input_length=news_length))\n",
        "model2.add(Conv1D(filters=32, kernel_size=3, padding='same', activation='relu'))\n",
        "model2.add(MaxPooling1D(pool_size=2))\n",
        "model2.add(LSTM(100))\n",
        "model2.add(Dense(1, activation='sigmoid'))\n",
        "model2.compile(loss='binary_crossentropy', optimizer='adam', metrics=['accuracy'])\n",
        "print(model2.summary())\n",
        "model2.fit(X_train,y_train,validation_data=(X_test,y_test),epochs=8,batch_size=64)"
      ],
      "metadata": {
        "colab": {
          "base_uri": "https://localhost:8080/"
        },
        "id": "K2NQHdZY_mM1",
        "outputId": "4892f8b6-c130-4680-a287-4cdaed6acc0c"
      },
      "execution_count": 507,
      "outputs": [
        {
          "output_type": "stream",
          "name": "stdout",
          "text": [
            "Model: \"sequential_59\"\n",
            "_________________________________________________________________\n",
            " Layer (type)                Output Shape              Param #   \n",
            "=================================================================\n",
            " embedding_59 (Embedding)    (None, 300, 40)           3840000   \n",
            "                                                                 \n",
            " conv1d_29 (Conv1D)          (None, 300, 32)           3872      \n",
            "                                                                 \n",
            " max_pooling1d_29 (MaxPoolin  (None, 150, 32)          0         \n",
            " g1D)                                                            \n",
            "                                                                 \n",
            " lstm_59 (LSTM)              (None, 100)               53200     \n",
            "                                                                 \n",
            " dense_59 (Dense)            (None, 1)                 101       \n",
            "                                                                 \n",
            "=================================================================\n",
            "Total params: 3,897,173\n",
            "Trainable params: 3,897,173\n",
            "Non-trainable params: 0\n",
            "_________________________________________________________________\n",
            "None\n",
            "Epoch 1/8\n",
            "66/66 [==============================] - 3s 23ms/step - loss: 0.4732 - accuracy: 0.7727 - val_loss: 2.2054 - val_accuracy: 0.5993\n",
            "Epoch 2/8\n",
            "66/66 [==============================] - 1s 15ms/step - loss: 0.2133 - accuracy: 0.9570 - val_loss: 0.1353 - val_accuracy: 0.9570\n",
            "Epoch 3/8\n",
            "66/66 [==============================] - 1s 15ms/step - loss: 0.0246 - accuracy: 0.9950 - val_loss: 0.1167 - val_accuracy: 0.9577\n",
            "Epoch 4/8\n",
            "66/66 [==============================] - 1s 15ms/step - loss: 0.0054 - accuracy: 0.9998 - val_loss: 0.1344 - val_accuracy: 0.9599\n",
            "Epoch 5/8\n",
            "66/66 [==============================] - 1s 15ms/step - loss: 0.0017 - accuracy: 1.0000 - val_loss: 0.1611 - val_accuracy: 0.9577\n",
            "Epoch 6/8\n",
            "66/66 [==============================] - 1s 15ms/step - loss: 0.0011 - accuracy: 1.0000 - val_loss: 0.1689 - val_accuracy: 0.9584\n",
            "Epoch 7/8\n",
            "66/66 [==============================] - 1s 15ms/step - loss: 7.7756e-04 - accuracy: 1.0000 - val_loss: 0.1888 - val_accuracy: 0.9577\n",
            "Epoch 8/8\n",
            "66/66 [==============================] - 1s 15ms/step - loss: 5.9992e-04 - accuracy: 1.0000 - val_loss: 0.2100 - val_accuracy: 0.9577\n"
          ]
        },
        {
          "output_type": "execute_result",
          "data": {
            "text/plain": [
              "<keras.callbacks.History at 0x7feb340fa750>"
            ]
          },
          "metadata": {},
          "execution_count": 507
        }
      ]
    },
    {
      "cell_type": "markdown",
      "source": [
        "LSTM and CNN+LSTM evaluation"
      ],
      "metadata": {
        "id": "Urelbu5gYamk"
      }
    },
    {
      "cell_type": "code",
      "execution_count": 508,
      "metadata": {
        "id": "cm1oVuvOqgta"
      },
      "outputs": [],
      "source": [
        "y_pred1=model1.predict(X_test)\n",
        "y_pred2=model2.predict(X_test)"
      ]
    },
    {
      "cell_type": "code",
      "source": [
        "from sklearn.metrics import accuracy_score\n",
        "from sklearn.metrics import classification_report\n",
        "from sklearn.metrics import confusion_matrix"
      ],
      "metadata": {
        "id": "0QzMxLNVLSNN"
      },
      "execution_count": 509,
      "outputs": []
    },
    {
      "cell_type": "code",
      "source": [
        "print(\"LSTM accuracy:%.4f\"%accuracy_score(y_test,np.around(y_pred1)))\n",
        "print(\"CNN+LSTM accuracy:%.4f\"%accuracy_score(y_test,np.around(y_pred2)))"
      ],
      "metadata": {
        "id": "A2ik3zmVAJI6",
        "colab": {
          "base_uri": "https://localhost:8080/"
        },
        "outputId": "a47bad70-8cbb-474b-973e-4d756fb1f591"
      },
      "execution_count": 510,
      "outputs": [
        {
          "output_type": "stream",
          "name": "stdout",
          "text": [
            "LSTM accuracy:0.9491\n",
            "CNN+LSTM accuracy:0.9577\n"
          ]
        }
      ]
    },
    {
      "cell_type": "code",
      "source": [
        "print(\"LSTM:\\n\", classification_report(y_test,np.around(y_pred1),digits=4))\n",
        "print(\"\\nCNN+LSTM:\\n\", classification_report(y_test,np.around(y_pred2),digits=4))"
      ],
      "metadata": {
        "id": "QaIirFDxANHy",
        "colab": {
          "base_uri": "https://localhost:8080/"
        },
        "outputId": "8e259478-b2a9-487d-fdc3-65caaffe916c"
      },
      "execution_count": 511,
      "outputs": [
        {
          "output_type": "stream",
          "name": "stdout",
          "text": [
            "LSTM:\n",
            "               precision    recall  f1-score   support\n",
            "\n",
            "           0     0.9524    0.9456    0.9490       698\n",
            "           1     0.9459    0.9527    0.9492       697\n",
            "\n",
            "    accuracy                         0.9491      1395\n",
            "   macro avg     0.9491    0.9491    0.9491      1395\n",
            "weighted avg     0.9491    0.9491    0.9491      1395\n",
            "\n",
            "\n",
            "CNN+LSTM:\n",
            "               precision    recall  f1-score   support\n",
            "\n",
            "           0     0.9469    0.9699    0.9582       698\n",
            "           1     0.9691    0.9455    0.9572       697\n",
            "\n",
            "    accuracy                         0.9577      1395\n",
            "   macro avg     0.9580    0.9577    0.9577      1395\n",
            "weighted avg     0.9580    0.9577    0.9577      1395\n",
            "\n"
          ]
        }
      ]
    },
    {
      "cell_type": "code",
      "source": [
        "print(\"LSTM confusion matrix:\\n \",confusion_matrix(y_test,np.around(y_pred1)))\n",
        "print(\"\\nCNN+LSTM confusion matrix:\\n\",confusion_matrix(y_test,np.around(y_pred2)))"
      ],
      "metadata": {
        "colab": {
          "base_uri": "https://localhost:8080/"
        },
        "id": "wL-hln5fTpd-",
        "outputId": "1c1f1216-711a-48b4-b1d5-ff9d15c93685"
      },
      "execution_count": 512,
      "outputs": [
        {
          "output_type": "stream",
          "name": "stdout",
          "text": [
            "LSTM confusion matrix:\n",
            "  [[660  38]\n",
            " [ 33 664]]\n",
            "\n",
            "CNN+LSTM confusion matrix:\n",
            " [[677  21]\n",
            " [ 38 659]]\n"
          ]
        }
      ]
    },
    {
      "cell_type": "markdown",
      "source": [
        "#**Bi-LSTM MODEL**"
      ],
      "metadata": {
        "id": "NlOAkr14z3dF"
      }
    },
    {
      "cell_type": "code",
      "execution_count": 513,
      "metadata": {
        "id": "brBUzzMXn4wp",
        "colab": {
          "base_uri": "https://localhost:8080/"
        },
        "outputId": "0ffe8831-2d58-4008-edc7-0cf707a5c9fc"
      },
      "outputs": [
        {
          "output_type": "stream",
          "name": "stdout",
          "text": [
            "Model: \"sequential_60\"\n",
            "_________________________________________________________________\n",
            " Layer (type)                Output Shape              Param #   \n",
            "=================================================================\n",
            " embedding_60 (Embedding)    (None, 300, 40)           3840000   \n",
            "                                                                 \n",
            " bidirectional_29 (Bidirecti  (None, 200)              112800    \n",
            " onal)                                                           \n",
            "                                                                 \n",
            " dropout_15 (Dropout)        (None, 200)               0         \n",
            "                                                                 \n",
            " dense_60 (Dense)            (None, 1)                 201       \n",
            "                                                                 \n",
            "=================================================================\n",
            "Total params: 3,953,001\n",
            "Trainable params: 3,953,001\n",
            "Non-trainable params: 0\n",
            "_________________________________________________________________\n",
            "None\n",
            "Epoch 1/8\n",
            "66/66 [==============================] - 6s 49ms/step - loss: 0.5434 - accuracy: 0.7500 - val_loss: 0.2637 - val_accuracy: 0.9161\n",
            "Epoch 2/8\n",
            "66/66 [==============================] - 2s 37ms/step - loss: 0.3047 - accuracy: 0.8745 - val_loss: 0.1782 - val_accuracy: 0.9505\n",
            "Epoch 3/8\n",
            "66/66 [==============================] - 2s 37ms/step - loss: 0.0673 - accuracy: 0.9852 - val_loss: 0.1996 - val_accuracy: 0.9434\n",
            "Epoch 4/8\n",
            "66/66 [==============================] - 2s 37ms/step - loss: 0.0703 - accuracy: 0.9907 - val_loss: 0.1510 - val_accuracy: 0.9477\n",
            "Epoch 5/8\n",
            "66/66 [==============================] - 2s 36ms/step - loss: 0.0214 - accuracy: 0.9983 - val_loss: 0.1280 - val_accuracy: 0.9591\n",
            "Epoch 6/8\n",
            "66/66 [==============================] - 2s 36ms/step - loss: 0.0057 - accuracy: 0.9993 - val_loss: 0.1570 - val_accuracy: 0.9591\n",
            "Epoch 7/8\n",
            "66/66 [==============================] - 2s 37ms/step - loss: 0.0321 - accuracy: 0.9900 - val_loss: 0.1209 - val_accuracy: 0.9620\n",
            "Epoch 8/8\n",
            "66/66 [==============================] - 2s 37ms/step - loss: 0.0030 - accuracy: 1.0000 - val_loss: 0.1948 - val_accuracy: 0.9527\n"
          ]
        },
        {
          "output_type": "execute_result",
          "data": {
            "text/plain": [
              "<keras.callbacks.History at 0x7feb34146790>"
            ]
          },
          "metadata": {},
          "execution_count": 513
        }
      ],
      "source": [
        "embedding_vector_features=40\n",
        "model3=Sequential()\n",
        "model3.add(Embedding(voc_size,embedding_vector_features,input_length=news_length))\n",
        "model3.add(Bidirectional(LSTM(100)))\n",
        "model3.add(Dropout(0.3))\n",
        "model3.add(Dense(1,activation='sigmoid'))\n",
        "model3.compile(loss='binary_crossentropy',optimizer='adam',metrics=['accuracy'])\n",
        "print(model3.summary())\n",
        "model3.fit(X_train,y_train,validation_data=(X_test,y_test),epochs=8,batch_size=64)"
      ]
    },
    {
      "cell_type": "markdown",
      "source": [
        "## **CNN+BiLSTM MODEL**"
      ],
      "metadata": {
        "id": "o_8oFG2rY2wg"
      }
    },
    {
      "cell_type": "code",
      "source": [
        "embedding_vecor_length = 40\n",
        "model4 = Sequential()\n",
        "model4.add(Embedding(voc_size, embedding_vecor_length, input_length=news_length))\n",
        "model4.add(Conv1D(filters=32, kernel_size=3, padding='same', activation='relu'))\n",
        "model4.add(MaxPooling1D(pool_size=2))\n",
        "model4.add(Bidirectional(LSTM(100)))\n",
        "model4.add(Dense(1, activation='sigmoid'))\n",
        "model4.compile(loss='binary_crossentropy', optimizer='adam', metrics=['accuracy'])\n",
        "print(model4.summary())\n",
        "model4.fit(X_train,y_train,validation_data=(X_test,y_test),epochs=8,batch_size=64)"
      ],
      "metadata": {
        "colab": {
          "base_uri": "https://localhost:8080/"
        },
        "id": "IpqRP2iaCAVl",
        "outputId": "ccc5f6c0-6025-4d62-81c7-70a1cc20cc87"
      },
      "execution_count": 514,
      "outputs": [
        {
          "output_type": "stream",
          "name": "stdout",
          "text": [
            "Model: \"sequential_61\"\n",
            "_________________________________________________________________\n",
            " Layer (type)                Output Shape              Param #   \n",
            "=================================================================\n",
            " embedding_61 (Embedding)    (None, 300, 40)           3840000   \n",
            "                                                                 \n",
            " conv1d_30 (Conv1D)          (None, 300, 32)           3872      \n",
            "                                                                 \n",
            " max_pooling1d_30 (MaxPoolin  (None, 150, 32)          0         \n",
            " g1D)                                                            \n",
            "                                                                 \n",
            " bidirectional_30 (Bidirecti  (None, 200)              106400    \n",
            " onal)                                                           \n",
            "                                                                 \n",
            " dense_61 (Dense)            (None, 1)                 201       \n",
            "                                                                 \n",
            "=================================================================\n",
            "Total params: 3,950,473\n",
            "Trainable params: 3,950,473\n",
            "Non-trainable params: 0\n",
            "_________________________________________________________________\n",
            "None\n",
            "Epoch 1/8\n",
            "66/66 [==============================] - 5s 37ms/step - loss: 0.5046 - accuracy: 0.7584 - val_loss: 0.4198 - val_accuracy: 0.8251\n",
            "Epoch 2/8\n",
            "66/66 [==============================] - 2s 24ms/step - loss: 0.1241 - accuracy: 0.9618 - val_loss: 0.1215 - val_accuracy: 0.9556\n",
            "Epoch 3/8\n",
            "66/66 [==============================] - 2s 24ms/step - loss: 0.0208 - accuracy: 0.9959 - val_loss: 0.1503 - val_accuracy: 0.9462\n",
            "Epoch 4/8\n",
            "66/66 [==============================] - 2s 24ms/step - loss: 0.0086 - accuracy: 0.9986 - val_loss: 0.1538 - val_accuracy: 0.9570\n",
            "Epoch 5/8\n",
            "66/66 [==============================] - 2s 24ms/step - loss: 0.0036 - accuracy: 0.9993 - val_loss: 0.1601 - val_accuracy: 0.9613\n",
            "Epoch 6/8\n",
            "66/66 [==============================] - 2s 23ms/step - loss: 0.0022 - accuracy: 0.9995 - val_loss: 0.1801 - val_accuracy: 0.9548\n",
            "Epoch 7/8\n",
            "66/66 [==============================] - 2s 23ms/step - loss: 9.5495e-04 - accuracy: 0.9998 - val_loss: 0.1856 - val_accuracy: 0.9627\n",
            "Epoch 8/8\n",
            "66/66 [==============================] - 2s 24ms/step - loss: 6.8508e-04 - accuracy: 0.9998 - val_loss: 0.2090 - val_accuracy: 0.9620\n"
          ]
        },
        {
          "output_type": "execute_result",
          "data": {
            "text/plain": [
              "<keras.callbacks.History at 0x7feb32317610>"
            ]
          },
          "metadata": {},
          "execution_count": 514
        }
      ]
    },
    {
      "cell_type": "code",
      "execution_count": 515,
      "metadata": {
        "id": "2NfU27S5oSUW"
      },
      "outputs": [],
      "source": [
        "y_pred3=model3.predict(X_test)\n",
        "y_pred4=model4.predict(X_test)"
      ]
    },
    {
      "cell_type": "code",
      "execution_count": 516,
      "metadata": {
        "id": "cMWefLVVp29R",
        "colab": {
          "base_uri": "https://localhost:8080/"
        },
        "outputId": "83b6fd2f-e1dd-4b15-d6aa-9815436f1ff2"
      },
      "outputs": [
        {
          "output_type": "stream",
          "name": "stdout",
          "text": [
            "BiLSTM accuracy:0.9527\n",
            "CNN+BiLSTM accuracy:0.9620\n"
          ]
        }
      ],
      "source": [
        "print(\"BiLSTM accuracy:%.4f\"%accuracy_score(y_test,np.around(y_pred3)))\n",
        "print(\"CNN+BiLSTM accuracy:%.4f\"%accuracy_score(y_test,np.around(y_pred4)))"
      ]
    },
    {
      "cell_type": "code",
      "execution_count": 517,
      "metadata": {
        "id": "UggdAaXwqMp5",
        "colab": {
          "base_uri": "https://localhost:8080/"
        },
        "outputId": "e3074326-0886-4e8e-d5b0-d89ecf1667ec"
      },
      "outputs": [
        {
          "output_type": "stream",
          "name": "stdout",
          "text": [
            "BiLSTM:\n",
            "               precision    recall  f1-score   support\n",
            "\n",
            "           0     0.9305    0.9785    0.9539       698\n",
            "           1     0.9773    0.9268    0.9514       697\n",
            "\n",
            "    accuracy                         0.9527      1395\n",
            "   macro avg     0.9539    0.9527    0.9527      1395\n",
            "weighted avg     0.9539    0.9527    0.9527      1395\n",
            "\n",
            "\n",
            "CNN+BiLSTM:\n",
            "               precision    recall  f1-score   support\n",
            "\n",
            "           0     0.9722    0.9513    0.9616       698\n",
            "           1     0.9522    0.9727    0.9624       697\n",
            "\n",
            "    accuracy                         0.9620      1395\n",
            "   macro avg     0.9622    0.9620    0.9620      1395\n",
            "weighted avg     0.9622    0.9620    0.9620      1395\n",
            "\n"
          ]
        }
      ],
      "source": [
        "print(\"BiLSTM:\\n\",classification_report(y_test,np.around(y_pred3),digits=4))\n",
        "print(\"\\nCNN+BiLSTM:\\n\",classification_report(y_test,np.around(y_pred4),digits=4))"
      ]
    },
    {
      "cell_type": "code",
      "execution_count": 518,
      "metadata": {
        "id": "GVdsMUORp0Jp",
        "colab": {
          "base_uri": "https://localhost:8080/"
        },
        "outputId": "9c993c61-d8c6-4ba0-e967-690f5235ebb4"
      },
      "outputs": [
        {
          "output_type": "stream",
          "name": "stdout",
          "text": [
            "BiLSTM confusion matrix:\n",
            " [[683  15]\n",
            " [ 51 646]]\n",
            "\n",
            "CNN+BiLSTM confusion matrix:\n",
            " [[664  34]\n",
            " [ 19 678]]\n"
          ]
        }
      ],
      "source": [
        "print(\"BiLSTM confusion matrix:\\n\",confusion_matrix(y_test,np.around(y_pred3)))\n",
        "print(\"\\nCNN+BiLSTM confusion matrix:\\n\",confusion_matrix(y_test,np.around(y_pred4)))"
      ]
    }
  ],
  "metadata": {
    "colab": {
      "provenance": [],
      "collapsed_sections": [],
      "authorship_tag": "ABX9TyOYlOIhzrsG6MvVZ/ygY+a1",
      "include_colab_link": true
    },
    "kernelspec": {
      "display_name": "Python 3",
      "name": "python3"
    },
    "language_info": {
      "name": "python"
    },
    "accelerator": "GPU",
    "gpuClass": "standard"
  },
  "nbformat": 4,
  "nbformat_minor": 0
}